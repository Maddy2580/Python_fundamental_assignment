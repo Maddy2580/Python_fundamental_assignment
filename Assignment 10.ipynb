{
 "cells": [
  {
   "cell_type": "markdown",
   "id": "f982897e",
   "metadata": {},
   "source": [
    "### Python Basic Assignment 10\n",
    "-------------"
   ]
  },
  {
   "cell_type": "markdown",
   "id": "976b9ba0",
   "metadata": {},
   "source": [
    "### 1. How do you distinguish between shutil.copy() and shutil.copytree()?\n",
    "\n",
    "##### Ans:\n",
    "\n",
    "shutil.copy() will copy a single file and shutil.copytree() will copy an entire folder and every folder and file contained in it."
   ]
  },
  {
   "cell_type": "markdown",
   "id": "c1406ae6",
   "metadata": {},
   "source": [
    "### 2. What function is used to rename files??\n",
    "\n",
    "##### Ans:\n",
    "\n",
    "os.rename()\n",
    "\n"
   ]
  },
  {
   "cell_type": "markdown",
   "id": "dc4e0cb8",
   "metadata": {},
   "source": [
    "### 3. What is the difference between the delete functions in the send2trash and shutil modules?\n",
    "\n",
    "##### Ans:\n",
    "\n",
    "send2trash function move a file or folder to the recycle bin, while shutil function permanently delete file or folder.\n",
    "\n"
   ]
  },
  {
   "cell_type": "markdown",
   "id": "608fb796",
   "metadata": {},
   "source": [
    "### 4. ZipFile objects have a close() method just like File objects’ close() method. What ZipFile method is equivalent to File objects’ open() method?\n",
    "\n",
    "##### Ans:\n",
    "\n",
    "ZipFile\n"
   ]
  },
  {
   "cell_type": "markdown",
   "id": "b5b557b3",
   "metadata": {},
   "source": [
    "### 5. Create a programme that searches a folder tree for files with a certain file extension (such as .pdf or .jpg). Copy these files from whatever location they are in to a new folder.\n",
    "\n",
    "##### Ans"
   ]
  },
  {
   "cell_type": "code",
   "execution_count": 2,
   "id": "dd14545a",
   "metadata": {},
   "outputs": [],
   "source": [
    "import os,shutil\n",
    "def changeLocation(folder,filetype,destination):\n",
    "    for foldername,filenames in os.walk():\n",
    "        for filename in filenames:\n",
    "            if fileName.endsWith(filetype):\n",
    "                shutil.copy(os.path.join(foldername,filename),destination)"
   ]
  },
  {
   "cell_type": "code",
   "execution_count": null,
   "id": "574247dc",
   "metadata": {},
   "outputs": [],
   "source": []
  }
 ],
 "metadata": {
  "kernelspec": {
   "display_name": "Python 3",
   "language": "python",
   "name": "python3"
  },
  "language_info": {
   "codemirror_mode": {
    "name": "ipython",
    "version": 3
   },
   "file_extension": ".py",
   "mimetype": "text/x-python",
   "name": "python",
   "nbconvert_exporter": "python",
   "pygments_lexer": "ipython3",
   "version": "3.8.8"
  }
 },
 "nbformat": 4,
 "nbformat_minor": 5
}
