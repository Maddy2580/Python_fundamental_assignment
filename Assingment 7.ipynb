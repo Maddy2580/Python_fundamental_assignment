{
 "cells": [
  {
   "cell_type": "markdown",
   "id": "e1fbb973",
   "metadata": {},
   "source": [
    "## Python Basic Assignment 7\n",
    "--------------------"
   ]
  },
  {
   "cell_type": "markdown",
   "id": "7159dc55",
   "metadata": {},
   "source": [
    "### 1. What is the name of the feature responsible for generating Regex objects?\n",
    "\n",
    "##### Ans:\n",
    "\n",
    "re.compile()"
   ]
  },
  {
   "cell_type": "markdown",
   "id": "402fe072",
   "metadata": {},
   "source": [
    "### 2. Why do raw strings often appear in Regex objects?\n",
    "\n",
    "##### Ans:\n",
    "\n",
    "Raw string notation keeps regular expression meaningful and confusion free. Without it every backslash(' \\ ') in regular expression would have to be prefixed with another one to escape it."
   ]
  },
  {
   "cell_type": "markdown",
   "id": "f3e0a0ba",
   "metadata": {},
   "source": [
    "### 3.What is the return value of the search() method?\n",
    "\n",
    "##### Ans:\n",
    "\n",
    "It returns a match object if there is a match else returns none.\n",
    "\n"
   ]
  },
  {
   "cell_type": "markdown",
   "id": "a439504e",
   "metadata": {},
   "source": [
    "### 4. From a Match item, how do you get the actual strings that match the pattern?\n",
    "\n",
    "##### Ans:\n",
    "\n",
    "group() method returns the actual string that match the pattern."
   ]
  },
  {
   "cell_type": "markdown",
   "id": "7ba704f0",
   "metadata": {},
   "source": [
    "### 5. In the regex which created from the r'(\\d\\d\\d)-(\\d\\d\\d-\\d\\d\\d\\d)', what does group zero cover?Group 2? Group 1?\n",
    "\n",
    "##### Ans:\n",
    "\n",
    "- Group zero is the entire match . group 0 covers (\\d\\d\\d)-(\\d\\d\\d-\\d\\d\\d\\d)\n",
    "- group 1 covers the first set of parentheses. group 1 covers (\\d\\d\\d)\n",
    "- group 2 covers the second set of parentheses. group 2 covers (\\d\\d\\d-\\d\\d\\d\\d)"
   ]
  },
  {
   "cell_type": "markdown",
   "id": "ff9073e4",
   "metadata": {},
   "source": [
    "### 6. In standard expression syntax, parentheses and intervals have distinct meanings. How can you tell a regex that you want it to fit real parentheses and periods?\n",
    "\n",
    "##### Ans: Periods and parentheses can be escaped with a backslash: "
   ]
  },
  {
   "cell_type": "code",
   "execution_count": 2,
   "id": "ca5dec66",
   "metadata": {},
   "outputs": [],
   "source": [
    "# \\.,  \\(,  \\)"
   ]
  },
  {
   "cell_type": "markdown",
   "id": "15b32896",
   "metadata": {},
   "source": [
    "### 7.The findall() method returns a string list or a list of string tuples. What causes it to return one of the two options?\n",
    "\n",
    "##### Ans:\n",
    "If the regex has no groups, a list of strings is returned. If the regex has groups, a list of tuples of strings is returned."
   ]
  },
  {
   "cell_type": "markdown",
   "id": "ba2dac9f",
   "metadata": {},
   "source": [
    "### 8.In standard expressions, what does the | character mean?\n",
    "\n",
    "##### Ans:\n",
    "\n",
    "It means either or "
   ]
  },
  {
   "cell_type": "markdown",
   "id": "2814f1a8",
   "metadata": {},
   "source": [
    "### 9.In regular expressions, what does the character stand for?\n",
    "\n",
    "##### Ans:\n",
    "\n",
    "Zero or one occerences"
   ]
  },
  {
   "cell_type": "markdown",
   "id": "a61913c1",
   "metadata": {},
   "source": [
    "### 10. In regular expressions, what is the difference between the + and * characters?\n",
    "\n",
    "##### Ans:\n",
    "\n",
    "- ' + ' refers one or more occurences\n",
    "- ' * ' refers zero or more occurences."
   ]
  },
  {
   "cell_type": "markdown",
   "id": "73e4676b",
   "metadata": {},
   "source": [
    "### 11. What is the difference between {4} and {4,5} in regular expression?\n",
    "\n",
    "##### Ans:\n",
    "\n",
    "- {4} means preceding character is to be repeated 4 times.\n",
    "- {4,5} means preceding character is repeated minimum 4 times and maximum 5 times."
   ]
  },
  {
   "cell_type": "markdown",
   "id": "6b1c6a44",
   "metadata": {},
   "source": [
    "### 12. What do you mean by the \\d, \\w, and \\s shorthand character classes signify in regular expressions?\n",
    "\n",
    "##### Ans:\n",
    "\n",
    "- \\d returns a match where string contains digit(number from 0-9)\n",
    "- \\w returns a match where string contains any word character(character from a to Z, digit from 0 to 9 and underscore character)\n",
    "- \\s returns a match where string contains a whitespace character."
   ]
  },
  {
   "cell_type": "markdown",
   "id": "a2b107b2",
   "metadata": {},
   "source": [
    "#### 13. What do means by \\D, \\W, and \\S shorthand character classes signify in regular expressions?\n",
    "\n",
    "##### ans :\n",
    "- The \\D, \\W, and \\S shorthand character classes match a single character that is not a digit, word, or space character, respectively."
   ]
  },
  {
   "cell_type": "markdown",
   "id": "b54c0a59",
   "metadata": {},
   "source": [
    "### 14. What is the difference between .? and .?\n",
    "\n",
    "##### Ans:\n",
    "\n",
    "- ' . ' accepts as many sequence as available(Greedy approach)\n",
    "- ' .? ' accepts the first matched sequence and then stops(Non-Greedy approach).\n",
    "\n"
   ]
  },
  {
   "cell_type": "markdown",
   "id": "e82a690e",
   "metadata": {},
   "source": [
    "### 15. What is the syntax for matching both numbers and lowercase letters with a character class?\n",
    "\n",
    "##### Ans:\n",
    "\n",
    "[a-z0-9]"
   ]
  },
  {
   "cell_type": "markdown",
   "id": "7302523e",
   "metadata": {},
   "source": [
    "### 16. What is the procedure for making a normal expression in regax case insensitive?\n",
    "\n",
    "##### Ans:\n",
    "\n",
    "pass re.IGNORECASE to re.compile()"
   ]
  },
  {
   "cell_type": "markdown",
   "id": "5d8ae9ec",
   "metadata": {},
   "source": [
    "### 17. What does the . character normally match? What does it match if re.DOTALL is passed as 2nd argument in re.compile()?\n",
    "\n",
    "##### Ans:\n",
    "\n",
    "' . ' character normally pass any character except newline character. With the help of DOTALL, ' . ' character can match any character including newline.\n",
    "\n"
   ]
  },
  {
   "cell_type": "markdown",
   "id": "1af5688c",
   "metadata": {},
   "source": [
    "### 18. If numReg = re.compile(r'\\d+'), what will numReg.sub('X', '11 drummers, 10 pipers, five rings, 4 hen') return?\n",
    "\n",
    "##### Ans:\n",
    "\n",
    "'X drummers, X pipers, five rings, X hen'"
   ]
  },
  {
   "cell_type": "markdown",
   "id": "a9384749",
   "metadata": {},
   "source": [
    "### 19. What does passing re.VERBOSE as the 2nd argument to re.compile() allow to do?\n",
    "\n",
    "##### Ans:\n",
    "\n",
    "It allows to write regular expressin that look nicer and are more readable by allowing visually separate logical section of the pattern and add comments.\n",
    "\n"
   ]
  },
  {
   "cell_type": "markdown",
   "id": "23046214",
   "metadata": {},
   "source": [
    "### 20. How would you write a regex that match a number with comma for every three digits? It must\n",
    "match the given following:\n",
    "&#39;42&#39; <br>\n",
    "&#39;1,234&#39; <br>\n",
    "&#39;6,368,745&#39; <br>\n",
    "\n",
    "but not the following: <br>\n",
    "&#39;12,34,567&#39; (which has only two digits between the commas) <br>\n",
    "&#39;1234&#39; (which lacks commas)"
   ]
  },
  {
   "cell_type": "markdown",
   "id": "b3e63285",
   "metadata": {},
   "source": [
    "#### ans :\n",
    "e.compile(r'^\\d{1,3}(,\\d{3})*$') will create this regex, but other regex strings can produce a similar regular expression."
   ]
  },
  {
   "cell_type": "markdown",
   "id": "6cb3c0aa",
   "metadata": {},
   "source": [
    "### 21. How would you write a regex that matches the full name of someone whose last name is Watanabe? You can assume that the first name that comes before it will always be one word that begins with a capital letter. The regex must match the following:<br>\n",
    "&#39;Haruto Watanabe&#39;<br>\n",
    "&#39;Alice Watanabe&#39;<br>\n",
    "&#39;RoboCop Watanabe&#39;<br>\n",
    "but not the following:<br>\n",
    "&#39;haruto Watanabe&#39; (where the first name is not capitalized) <br>\n",
    "&#39;Mr. Watanabe&#39; (where the preceding word has a nonletter character) <br>\n",
    "&#39;Watanabe&#39; (which has no first name)<br>\n",
    "&#39;Haruto watanabe&#39; (where Watanabe is not capitalized) <br>"
   ]
  },
  {
   "cell_type": "markdown",
   "id": "804265b2",
   "metadata": {},
   "source": [
    "#### ans :\n",
    "re.compile(r'[A-Z][a-z]*\\sWatanabe')"
   ]
  },
  {
   "cell_type": "markdown",
   "id": "5931e2d0",
   "metadata": {},
   "source": [
    "### 22. How would you write a regex that matches a sentence where the first word is either Alice, Bob, or Carol; the second word is either eats, pets, or throws; the third word is apples, cats, or baseballs; and the sentence ends with a period? This regex should be case-insensitive. It must match the following:\n",
    "&#39;Alice eats apples.&#39;<br>\n",
    "&#39;Bob pets cats.&#39;<br>\n",
    "&#39;Carol throws baseballs.&#39; <br>\n",
    "&#39;Alice throws Apples.&#39;<br>\n",
    "&#39;BOB EATS CATS.&#39;<br>\n",
    "\n",
    "but not the following:<br>\n",
    "&#39;RoboCop eats apples.&#39;<br>\n",
    "&#39;ALICE THROWS FOOTBALLS.&#39;<br>\n",
    "&#39;Carol eats 7 cats.&#39;<br>"
   ]
  },
  {
   "cell_type": "markdown",
   "id": "27031afe",
   "metadata": {},
   "source": [
    "#### ans\n",
    "re.compile(r'(Alice|Bob|Carol)\\s(eats|pets|throws)\\s(apples|cats|baseballs).', re.IGNORECASE)"
   ]
  },
  {
   "cell_type": "code",
   "execution_count": null,
   "id": "b98d8710",
   "metadata": {},
   "outputs": [],
   "source": []
  }
 ],
 "metadata": {
  "kernelspec": {
   "display_name": "Python 3",
   "language": "python",
   "name": "python3"
  },
  "language_info": {
   "codemirror_mode": {
    "name": "ipython",
    "version": 3
   },
   "file_extension": ".py",
   "mimetype": "text/x-python",
   "name": "python",
   "nbconvert_exporter": "python",
   "pygments_lexer": "ipython3",
   "version": "3.8.8"
  }
 },
 "nbformat": 4,
 "nbformat_minor": 5
}
