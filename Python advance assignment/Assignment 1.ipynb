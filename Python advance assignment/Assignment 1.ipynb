{
 "cells": [
  {
   "cell_type": "markdown",
   "id": "7f7d4104",
   "metadata": {},
   "source": [
    "## Python Advance Assignment 1"
   ]
  },
  {
   "cell_type": "markdown",
   "id": "fa44f4c9",
   "metadata": {},
   "source": [
    "### Q1. What is the purpose of Python's OOP?\n",
    "#### ans :\n",
    "Object-oriented programming is a programming paradigm that provides a means of structuring programs so that properties and behaviors are bundled into individual object<br>\n",
    "In Python, object-oriented Programming (OOPs) uses objects and classes in programming.<br>\n",
    "It aims to implement real-world entities like inheritance, polymorphisms, encapsulation, etc. in the programming.<br>\n",
    "The main concept of OOPs is to bind the data and the functions that work on that together as a single unit so that no other part of the code can access this data.<br>\n",
    "It helps to divide our over all program into different small segments and thus making it solving easy with the use of objects\n",
    "Helps in easy maintenance and modification of existing program<br>\n",
    "Multiple instances of an object can be made"
   ]
  },
  {
   "cell_type": "markdown",
   "id": "314aca7d",
   "metadata": {},
   "source": [
    "### Q2. Where does an inheritance search look for an attribute?\n",
    "#### ans :\n",
    "Python searches for an attribute in an upward tree of attributes. it first searches for the attribute in its instance and then looks in the class it is generated from, to all super classes listed in its class header"
   ]
  },
  {
   "cell_type": "markdown",
   "id": "7543b767",
   "metadata": {},
   "source": [
    "### Q3. How do you distinguish between a class object and an instance object?\n",
    "#### ans \n",
    "The differences between a class object and an instance object are:\n",
    "\n",
    "1.Class is a template for creating objects whereas object is an instance of class<br>\n",
    "2.Seperate memory is allocated for each object whenever an object is created. but for a class this doesnot happens.<br>\n",
    "3.A Class is created once. Many objects are created using a class.<br>\n",
    "4.As Classes have no allocated memory. they can't be manipulated. but objects can be manipulated.<br>"
   ]
  },
  {
   "cell_type": "markdown",
   "id": "789e8d1e",
   "metadata": {},
   "source": [
    "### Q4. What makes the first argument in a class’s method function special?\n",
    "#### ans :\n",
    "Python Classes usually have three types of methods which are:<br>\n",
    "\n",
    "1.Instance Methods (object level methods)\n",
    "<br>2.Class Methods (class level methods)\n",
    "<br>3.Static Methods (general utility methods)\n",
    "<br>4.self is the first argument for instance methods. which refers to the object itself\n",
    "<br>5.cls is the first argument for class methods which refers to the class itself\n"
   ]
  },
  {
   "cell_type": "markdown",
   "id": "3fc07278",
   "metadata": {},
   "source": [
    "### Q5. What is the purpose of the init method?\n",
    "#### Ans:\n",
    "__init__ is a reseved method in python classes. It serves the role of a constructor in object oriented terminology. This method is called when an object is created from a class and it allows the class to initialize the attributes of the class"
   ]
  },
  {
   "cell_type": "markdown",
   "id": "ed5628d1",
   "metadata": {},
   "source": [
    "### Q6. What is the process for creating a class instance?\n",
    "#### Ans: \n",
    "To create a class instance, we need to call the class by its name and pass the arguments to the class, which its init method accepts.\n",
    "\n",
    "Example: object = ClassName(var1,var2)"
   ]
  },
  {
   "cell_type": "markdown",
   "id": "8769fbc3",
   "metadata": {},
   "source": [
    "### Q7. What is the process for creating a class?\n",
    "#### Ans: \n",
    "class keyword is used to created a class. <br>\n",
    "The syntax to create a class in python is class <classname>:<br>\n",
    "\n",
    "Example: class Car:<br>\n",
    "        pass"
   ]
  },
  {
   "cell_type": "markdown",
   "id": "cba8def3",
   "metadata": {},
   "source": [
    "### Q8. How would you define the superclasses of a class?\n",
    "#### Ans :\n",
    "Superclass/Parent class is given as a arugment to the child class\n",
    "\n",
    "Example: class Car(Vehicle): \n",
    "        Here child class car inherits attributes and method from Superclass/Parent class vehicle"
   ]
  },
  {
   "cell_type": "code",
   "execution_count": null,
   "id": "b91b2a2b",
   "metadata": {},
   "outputs": [],
   "source": []
  }
 ],
 "metadata": {
  "kernelspec": {
   "display_name": "Python 3",
   "language": "python",
   "name": "python3"
  },
  "language_info": {
   "codemirror_mode": {
    "name": "ipython",
    "version": 3
   },
   "file_extension": ".py",
   "mimetype": "text/x-python",
   "name": "python",
   "nbconvert_exporter": "python",
   "pygments_lexer": "ipython3",
   "version": "3.8.8"
  }
 },
 "nbformat": 4,
 "nbformat_minor": 5
}
