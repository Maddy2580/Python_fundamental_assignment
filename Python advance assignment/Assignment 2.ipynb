{
 "cells": [
  {
   "cell_type": "markdown",
   "id": "2e4a1f89",
   "metadata": {},
   "source": [
    "## Python Advance Assignment 2"
   ]
  },
  {
   "cell_type": "markdown",
   "id": "59500857",
   "metadata": {},
   "source": [
    "### 1. What is the relationship between classes and modules?\n",
    "#### ans :\n",
    "A Python class is like an outline/blueprint/mold for creating a new object. An object is anything that you wish to manipulate or change while working through the code. Every time a class object is instantiated, which is when we declare a variable, a new object is initiated from scratch\n",
    "\n",
    "Whereas in Python, Modules are simply files with the . py extension containing Python code that can be imported inside another Python Program. In simple terms, we can consider a module to be the same as a code library or a file that contains a set of functions/Classes that you want to include in your application."
   ]
  },
  {
   "cell_type": "markdown",
   "id": "13ae8d47",
   "metadata": {},
   "source": [
    "### 2. How do you make instances and classes?\n",
    "#### Ans: \n",
    "For creating a class instance. we call a class by its name and pass the arguments which its __init__ method accepts.\n",
    "\n",
    "Example: rama = employee('Female',3400000)<br>\n",
    "Here rama is an instance of class employee with attriubutes 'Female' and 3400000<br>\n"
   ]
  },
  {
   "cell_type": "code",
   "execution_count": 2,
   "id": "6bb41da5",
   "metadata": {},
   "outputs": [],
   "source": [
    "class Vehicle:\n",
    "    def __init__(self, fuel_type,price):\n",
    "        self.fuel_type = fuel_type\n",
    "        self.price = price"
   ]
  },
  {
   "cell_type": "markdown",
   "id": "42062493",
   "metadata": {},
   "source": [
    "### 3. Where and how should be class attributes created?\n",
    "#### Ans:\n",
    "Class attributes belong to the class itself. these attributes will be shared by all the instances of the class. Hence these attributes are usually created/defined in the top of class definiation outside all methods.\n",
    "\n",
    "Example: In the below code we are defining a class attribute called no_of_wheels which will be shared by all the instances of the class Car"
   ]
  },
  {
   "cell_type": "code",
   "execution_count": 3,
   "id": "13a2c3d2",
   "metadata": {},
   "outputs": [],
   "source": [
    "class Car:\n",
    "    wheels=4 #class attribute\n",
    "    def __init__(self, fuel_type,price):\n",
    "        self.fuel_type = fuel_type #instances attribute\n",
    "        self.price = price"
   ]
  },
  {
   "cell_type": "markdown",
   "id": "362372ac",
   "metadata": {},
   "source": [
    "### 4. Where and how are instance attributes created?\n",
    "#### Ans: \n",
    "Instances attributes are passed to the class when an object of the class is created. Unlike class attributes, instance attributes are not shared by all objects of the classs. instead each object maintains its own copy of instance attributes at object level. whereas incase of class attributes all instances of class refer to a single copy. Usually instance attributes are defined within the __init__ method of class\n",
    "\n",
    "Example: In the below code we are creating a class Car with instance varaibles color, price, engine, which will be provided when an instance of class Car is created."
   ]
  },
  {
   "cell_type": "code",
   "execution_count": 4,
   "id": "a2c573c6",
   "metadata": {},
   "outputs": [],
   "source": [
    "class Car:\n",
    "    def __init__(self,color,price,engine):\n",
    "        self.color = color # All this are instance attributes\n",
    "        self.price = price\n",
    "        self.engine = engine\n",
    "\n",
    "nexon_ev = Car('Indigo Blue', 1400000, 'electric')\n",
    "safari = Car('Pearl White',2100000, 'petrol')\n",
    "\n",
    "# nexon_ev, safari are both the instances of class Car with different instance variables."
   ]
  },
  {
   "cell_type": "markdown",
   "id": "d33923ce",
   "metadata": {},
   "source": [
    "### 5. What does the term \"self\" in a Python class mean?\n",
    "### ans:\n",
    "self represents the instance of the class (it represents the object itself). By using the “self” keyword we can access the attributes and methods of the class with in the class in python. It binds the attributes with the given arguments."
   ]
  },
  {
   "cell_type": "markdown",
   "id": "254cefdf",
   "metadata": {},
   "source": [
    "### 6. How does a Python class handle operator overloading?\n",
    "#### Ans:\n",
    "Python Classes handle operator overloading by using special methods called Magic methods. these special methods usually begin and end with __ (double underscore)\n",
    "Example: Magic methods for basic arithmetic operators are:\n",
    "\n",
    "+  __add__()\n",
    "-  __sub__()\n",
    "*  __mul__()<br>\n",
    "/  __div__()"
   ]
  },
  {
   "cell_type": "markdown",
   "id": "eadff35d",
   "metadata": {},
   "source": [
    "### 7. When do you consider allowing operator overloading of your classes?\n",
    "#### Ans: \n",
    "When we want to have different meaning for the same operator accroding to the context we use operator overloading."
   ]
  },
  {
   "cell_type": "markdown",
   "id": "654738f7",
   "metadata": {},
   "source": [
    "### 8. What is the most popular form of operator overloading?\n",
    "#### Ans:\n",
    "The most popular form of operator overloading in python is by special methods called Magic methods. Which usually beign and end with double underscore __<method name>__."
   ]
  },
  {
   "cell_type": "markdown",
   "id": "9a6a310e",
   "metadata": {},
   "source": [
    "### 9. What are the two most important concepts to grasp in order to comprehend Python OOP code?\n",
    "#### Ans:\n",
    "Classes and objects are the two concepts to comprehend python OOP code as more formally objects are entities that represent instances of general abstract concept called class\n",
    "\n",
    "Along with classes and objects the important concepts to grasp are:\n",
    "\n",
    "Inheritence<br>\n",
    "Abstraction<br>\n",
    "Polymorphism<br>\n",
    "Encapsulation"
   ]
  },
  {
   "cell_type": "code",
   "execution_count": null,
   "id": "af371c68",
   "metadata": {},
   "outputs": [],
   "source": []
  }
 ],
 "metadata": {
  "kernelspec": {
   "display_name": "Python 3",
   "language": "python",
   "name": "python3"
  },
  "language_info": {
   "codemirror_mode": {
    "name": "ipython",
    "version": 3
   },
   "file_extension": ".py",
   "mimetype": "text/x-python",
   "name": "python",
   "nbconvert_exporter": "python",
   "pygments_lexer": "ipython3",
   "version": "3.8.8"
  }
 },
 "nbformat": 4,
 "nbformat_minor": 5
}
