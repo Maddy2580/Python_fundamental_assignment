{
 "cells": [
  {
   "cell_type": "markdown",
   "id": "e114893a",
   "metadata": {},
   "source": [
    "## Python Basic Assignment 14\n",
    "------------"
   ]
  },
  {
   "cell_type": "markdown",
   "id": "e6e2a856",
   "metadata": {},
   "source": [
    "### 1. What does RGBA stand for?\n",
    "\n",
    "##### Ans:\n",
    "\n",
    "RGBA: Red-Green-Blue-Alpha"
   ]
  },
  {
   "cell_type": "markdown",
   "id": "216b6d90",
   "metadata": {},
   "source": [
    "### 2.From the Pillow module, how do you get the RGBA value of any images?\n",
    "\n",
    "##### Ans:\n",
    "\n",
    "from PIL import ImageColor\n",
    "\n",
    "ImageColor.getcolor(color_name, 'RGBA')"
   ]
  },
  {
   "cell_type": "markdown",
   "id": "ae497779",
   "metadata": {},
   "source": [
    "### 3.What is a box tuple, and how does it work?\n",
    "\n",
    "##### Ans:\n",
    "\n",
    "Many Pillow's function take box tuple argument. This means pillow is taking a tuple of four integer coordinates that expecting a rectangular region in image. The four integers are in order left, top, right, bottom."
   ]
  },
  {
   "cell_type": "markdown",
   "id": "4029c90a",
   "metadata": {},
   "source": [
    "### 4.Use your image and load in notebook then, How can you find out the width and height of an Image object?\n"
   ]
  },
  {
   "cell_type": "markdown",
   "id": "8b32c05d",
   "metadata": {},
   "source": [
    "### Ans :\n",
    "We could use the Image class of IPython.display to load and , we can vary the width and height to adjust the image size."
   ]
  },
  {
   "cell_type": "markdown",
   "id": "e10d5338",
   "metadata": {},
   "source": [
    "### 5.What method would you call to get Image object for a 100×100 image, excluding the lower-left quarter of it?\n",
    "\n",
    "##### Ans:\n",
    "\n",
    "from PIL import Image\n",
    "\n",
    "Image.new('RGBA', (100,100))"
   ]
  },
  {
   "cell_type": "markdown",
   "id": "748204cc",
   "metadata": {},
   "source": [
    "### 6.After making changes to an Image object, how could you save it as an image file?\n",
    "\n",
    "##### Ans:\n",
    "\n",
    "save(filename)"
   ]
  },
  {
   "cell_type": "markdown",
   "id": "7067a801",
   "metadata": {},
   "source": [
    "### 7.What module contains Pillow’s shape-drawing code?\n",
    "\n",
    "##### Ans:\n",
    "\n",
    "ImageDraw"
   ]
  },
  {
   "cell_type": "markdown",
   "id": "c704b3cb",
   "metadata": {},
   "source": [
    "### 8.Image objects do not have drawing methods. What kind of object does? How do you get this kind of object?\n",
    "\n",
    "##### Ans:\n",
    "\n",
    "wand.drawing.Drawing object has drawing methods.\n",
    "\n",
    "It can be got this way:\n",
    "\n",
    "from wand.drawing import Drawing"
   ]
  },
  {
   "cell_type": "code",
   "execution_count": null,
   "id": "9e7a0807",
   "metadata": {},
   "outputs": [],
   "source": []
  }
 ],
 "metadata": {
  "kernelspec": {
   "display_name": "Python 3",
   "language": "python",
   "name": "python3"
  },
  "language_info": {
   "codemirror_mode": {
    "name": "ipython",
    "version": 3
   },
   "file_extension": ".py",
   "mimetype": "text/x-python",
   "name": "python",
   "nbconvert_exporter": "python",
   "pygments_lexer": "ipython3",
   "version": "3.8.8"
  }
 },
 "nbformat": 4,
 "nbformat_minor": 5
}
