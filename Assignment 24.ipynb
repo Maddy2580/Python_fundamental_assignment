{
 "cells": [
  {
   "cell_type": "markdown",
   "id": "8558f7fa",
   "metadata": {},
   "source": [
    "## Python Basic Assignment - 24\n",
    "----------------"
   ]
  },
  {
   "cell_type": "markdown",
   "id": "7719d39b",
   "metadata": {},
   "source": [
    "### 1. What is the relationship between def statements and lambda expressions ?\n",
    "\n",
    "Python def keyword is used to define a function, it is placed before a function name that is provided by the user to create a user-defined function.\n",
    "\n",
    "Lambda Expressions are a short way to declare small and anonymous functions (it is not necessary to provide a name for lambda functions).It is one-line functions.It work practically the same as any other method in Python. Lambdas differ from normal Python methods because they can have only one expression, and they can't contain any statements and their return type is a function object"
   ]
  },
  {
   "cell_type": "markdown",
   "id": "7f1cf87b",
   "metadata": {},
   "source": [
    "### 2. What is the benefit of lambda?\n",
    "\n",
    "1. Reduce amount of code<br>\n",
    "2. Execute comparatively faster because of few lines of code <br>\n",
    "3. Can be used to create Nameless/Anonymous functions inside some complex functions if we are planning to use it only once.<br>\n",
    "4. Fuctions created using lambda expressions can be assigned to a variable and can be used by simply calling the variable"
   ]
  },
  {
   "cell_type": "markdown",
   "id": "aa2869f6",
   "metadata": {},
   "source": [
    "### 3. Compare and contrast map, filter, and reduce.\n",
    "\n",
    "filter() is used to create an output list consisting of values for which the function returns true.It forms a new list that contains only elements that satisfy a certain condition, i.e. the function we passed returns True <br>\n",
    "Syntax : filter(function, iterable(s))<br>\n",
    "\n",
    "The map() function iterates through all items in the given iterable and executes the function we passed as an argument on each of them. <br>\n",
    "Syntax : map(function, iterable(s))\n",
    "\n",
    "The reduce() function, as the name describes, applies a given function to the iterables and returns a single value. <br>\n",
    "Syntax : reduce(function, sequence)"
   ]
  },
  {
   "cell_type": "code",
   "execution_count": 13,
   "id": "af23d1d7",
   "metadata": {},
   "outputs": [
    {
     "name": "stdout",
     "output_type": "stream",
     "text": [
      "Even numbers are [2, 6, 8, 4, 6, 2]\n",
      "Double of the number [6, 4, 12, 16, 8, 12, 4, 18]\n",
      "addition of all numbers 40\n"
     ]
    }
   ],
   "source": [
    "num=[3,2,6,8,4,6,2,9]\n",
    "\n",
    "# fitler function\n",
    "evens=list(filter(lambda n:n%2==0,num))\n",
    "print(\"Even numbers are\",evens)\n",
    "\n",
    "#map function\n",
    "double=list(map(lambda n:n*2,num))\n",
    "print(\"Double of the number\",double)\n",
    "\n",
    "# reduce function\n",
    "from functools import reduce\n",
    "add_all=reduce(lambda a,b:a+b,num)\n",
    "print(\"addition of all numbers\",add_all)"
   ]
  },
  {
   "cell_type": "markdown",
   "id": "c42f8e34",
   "metadata": {},
   "source": [
    "### 4. What are function annotations, and how are they used?\n",
    "\n",
    "Function annotations provide a way of associating various parts of a function with arbitrary pythoncexpressions at compile time.\n",
    "\n",
    "Syntax : def func(a: 'int') -> 'int': pass\n",
    "Annotations for simple parameters: def func(x: 'float'=10.8, y: 'argument2'): In the above code the argument, ‘x’ of the function func, has been annotated to float data type and the argument ‘y’ has a string-based annotation. The argument can also be assigned to a default value using a ‘=’ symbol followed by the default value. These default values are optional to the code.\n",
    "Annotations for return values: def func(a: expression) -> 'int': The annotations for the return value is written after the ‘->’ symbol.\n",
    "Whereas the annotations for excess parameters are as − def func (**args: expression, **kwargs: expression):"
   ]
  },
  {
   "cell_type": "markdown",
   "id": "dfe8c715",
   "metadata": {},
   "source": [
    "### 5. What are recursive functions, and how are they used?\n",
    "\n",
    "A recursive function is a function that calls itself during its execution. The process may repeat several times, outputting the result and the end of each iteration."
   ]
  },
  {
   "cell_type": "code",
   "execution_count": 1,
   "id": "dcec4c1e",
   "metadata": {},
   "outputs": [
    {
     "data": {
      "text/plain": [
       "120"
      ]
     },
     "execution_count": 1,
     "metadata": {},
     "output_type": "execute_result"
    }
   ],
   "source": [
    "def fact(n):\n",
    "    if n == 1 or n == 0:\n",
    "        return 1\n",
    "    else :\n",
    "        return n * fact(n-1) # recursion\n",
    "\n",
    "fact(5)\n"
   ]
  },
  {
   "cell_type": "markdown",
   "id": "a6337a2a",
   "metadata": {},
   "source": [
    "### 6. What are some general design guidelines for coding functions?\n",
    "\n",
    "Some of the general design guidelines for coding functions are:\n",
    "\n",
    "1.Always use a docstring to explain the functionality of the function\n",
    "<br>2.avoid using or limited use of global variables\n",
    "<br>3.Proper Identation to increase the code readability\n",
    "<br>4.try to follow a naming convention for function names (pascalCase or camelCase) and stick with the same convention throughout the application.\n",
    "<br>5.Avoid using digits while choosing a variable name\n",
    "<br>6.try to use a name for the function which conveys the purpose of the function\n",
    "<br>7.Local variables should be named using camelCase format (ex: localVariable) whereas Global variables names should be using PascalCase (ex:GlobalVariable).\n",
    "<br>8.Constant should be represented in allcaps (ex:CONSTANT)."
   ]
  },
  {
   "cell_type": "markdown",
   "id": "b9ea357c",
   "metadata": {},
   "source": [
    "### 7. Name three or more ways that functions can communicate results to a caller.\n",
    "\n",
    "Some of the ways in which a function can communicate with the calling function is:\n",
    "\n",
    "print<br>\n",
    "return<br>\n",
    "yield"
   ]
  },
  {
   "cell_type": "code",
   "execution_count": null,
   "id": "313c7821",
   "metadata": {},
   "outputs": [],
   "source": []
  }
 ],
 "metadata": {
  "kernelspec": {
   "display_name": "Python 3",
   "language": "python",
   "name": "python3"
  },
  "language_info": {
   "codemirror_mode": {
    "name": "ipython",
    "version": 3
   },
   "file_extension": ".py",
   "mimetype": "text/x-python",
   "name": "python",
   "nbconvert_exporter": "python",
   "pygments_lexer": "ipython3",
   "version": "3.8.8"
  }
 },
 "nbformat": 4,
 "nbformat_minor": 5
}
