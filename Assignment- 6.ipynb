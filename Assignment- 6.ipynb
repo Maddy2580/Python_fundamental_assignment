{
 "cells": [
  {
   "cell_type": "markdown",
   "id": "2e6d0aac",
   "metadata": {},
   "source": [
    "1. What are escape characters, and how do you use them?\n",
    "\n",
    "\n",
    "ans:- In Python strings, the backslash  is a special character, also called the \"escape\" character. It is used in representing certain whitespace characters: \"\\t\" is a tab, \"\\n\" is a newline, and \"\\r\" is a carriage return"
   ]
  },
  {
   "cell_type": "code",
   "execution_count": 1,
   "id": "3e6de963",
   "metadata": {},
   "outputs": [
    {
     "name": "stdout",
     "output_type": "stream",
     "text": [
      "my name is\n"
     ]
    }
   ],
   "source": [
    "print(\"my \\\n",
    "name \\\n",
    "is\")"
   ]
  },
  {
   "cell_type": "markdown",
   "id": "8bdcd8c3",
   "metadata": {},
   "source": [
    "2. What do the escape characters n and t stand for?\n",
    "\n",
    "ans- \"\\t\" is a tab, \"\\n\" is a newline"
   ]
  },
  {
   "cell_type": "markdown",
   "id": "ab3f0539",
   "metadata": {},
   "source": [
    "3. What is the way to include backslash characters in a string?"
   ]
  },
  {
   "cell_type": "code",
   "execution_count": 4,
   "id": "c0a08a7f",
   "metadata": {},
   "outputs": [
    {
     "name": "stdout",
     "output_type": "stream",
     "text": [
      "its a back slash \\ in a line\n"
     ]
    }
   ],
   "source": [
    "print('its a back slash \\ in a line')"
   ]
  },
  {
   "cell_type": "markdown",
   "id": "381cae6d",
   "metadata": {},
   "source": [
    "4. The string \"Howl's Moving Castle\" is a correct value. Why isn't the single quote character in the word Howl's not escaped a problem?\n",
    "\n",
    "\n",
    "ans- The single quote in Howl's is fine because you've used double quotes to mark the beginning and end of the string. like wise we can use double quotes in with single quotes"
   ]
  },
  {
   "cell_type": "code",
   "execution_count": 5,
   "id": "6b58b248",
   "metadata": {},
   "outputs": [
    {
     "name": "stdout",
     "output_type": "stream",
     "text": [
      "HowI's Moving Castle\n"
     ]
    }
   ],
   "source": [
    "print(\"HowI's Moving Castle\")"
   ]
  },
  {
   "cell_type": "code",
   "execution_count": 6,
   "id": "93a810ed",
   "metadata": {},
   "outputs": [
    {
     "name": "stdout",
     "output_type": "stream",
     "text": [
      "Its a \"Nice\" Day\n"
     ]
    }
   ],
   "source": [
    "# like wise we can use double quote in side single quote\n",
    "print('Its a \"Nice\" Day')"
   ]
  },
  {
   "cell_type": "markdown",
   "id": "87cc25f6",
   "metadata": {},
   "source": [
    "5. How do you write a string of newlines if you don't want to use the n character?"
   ]
  },
  {
   "cell_type": "code",
   "execution_count": 7,
   "id": "0599f6c7",
   "metadata": {},
   "outputs": [
    {
     "name": "stdout",
     "output_type": "stream",
     "text": [
      "printing something in new line\n",
      "newline\n"
     ]
    }
   ],
   "source": [
    "print(\"printing something in new line\",end = '\\n')\n",
    "print(\"newline\")"
   ]
  },
  {
   "cell_type": "markdown",
   "id": "91efa4c9",
   "metadata": {},
   "source": [
    "6. What are the values of the given expressions?"
   ]
  },
  {
   "cell_type": "markdown",
   "id": "fa6d6ace",
   "metadata": {},
   "source": [
    "'Hello, world!'[1] 'Hello, world!'[0:5] 'Hello, world!'[:5] 'Hello, world!'[3:]"
   ]
  },
  {
   "cell_type": "code",
   "execution_count": 8,
   "id": "2ab1ce9e",
   "metadata": {},
   "outputs": [
    {
     "data": {
      "text/plain": [
       "'e'"
      ]
     },
     "execution_count": 8,
     "metadata": {},
     "output_type": "execute_result"
    }
   ],
   "source": [
    "'Hello, world!'[1]"
   ]
  },
  {
   "cell_type": "code",
   "execution_count": 9,
   "id": "03937b41",
   "metadata": {},
   "outputs": [
    {
     "data": {
      "text/plain": [
       "'Hello'"
      ]
     },
     "execution_count": 9,
     "metadata": {},
     "output_type": "execute_result"
    }
   ],
   "source": [
    "'Hello, world!'[0:5]"
   ]
  },
  {
   "cell_type": "code",
   "execution_count": 10,
   "id": "d7da33e0",
   "metadata": {},
   "outputs": [
    {
     "data": {
      "text/plain": [
       "'Hello'"
      ]
     },
     "execution_count": 10,
     "metadata": {},
     "output_type": "execute_result"
    }
   ],
   "source": [
    "'Hello, world!'[:5]\n"
   ]
  },
  {
   "cell_type": "code",
   "execution_count": 11,
   "id": "48f5d5a5",
   "metadata": {},
   "outputs": [
    {
     "data": {
      "text/plain": [
       "'lo, world!'"
      ]
     },
     "execution_count": 11,
     "metadata": {},
     "output_type": "execute_result"
    }
   ],
   "source": [
    "'Hello, world!'[3:]"
   ]
  },
  {
   "cell_type": "markdown",
   "id": "efaae57a",
   "metadata": {},
   "source": [
    "7. What are the values of the following expressions?\n",
    "\n",
    "\n",
    "'Hello'.upper() 'Hello'.upper().isupper() 'Hello'.upper().lower()"
   ]
  },
  {
   "cell_type": "code",
   "execution_count": 13,
   "id": "108c43c7",
   "metadata": {},
   "outputs": [
    {
     "data": {
      "text/plain": [
       "'HELLO'"
      ]
     },
     "execution_count": 13,
     "metadata": {},
     "output_type": "execute_result"
    }
   ],
   "source": [
    "'Hello'.upper()"
   ]
  },
  {
   "cell_type": "code",
   "execution_count": 14,
   "id": "89521d1a",
   "metadata": {},
   "outputs": [
    {
     "data": {
      "text/plain": [
       "True"
      ]
     },
     "execution_count": 14,
     "metadata": {},
     "output_type": "execute_result"
    }
   ],
   "source": [
    "'Hello'.upper().isupper()"
   ]
  },
  {
   "cell_type": "code",
   "execution_count": 15,
   "id": "9861a4a5",
   "metadata": {},
   "outputs": [
    {
     "data": {
      "text/plain": [
       "'hello'"
      ]
     },
     "execution_count": 15,
     "metadata": {},
     "output_type": "execute_result"
    }
   ],
   "source": [
    "'Hello'.upper().lower()"
   ]
  },
  {
   "cell_type": "markdown",
   "id": "d167b69e",
   "metadata": {},
   "source": [
    "What are the values of the following expressions?\n",
    "\n",
    "\n",
    "'Remember, remember, the fifth of July.'.split() '-'.join('There can only one.'.split())"
   ]
  },
  {
   "cell_type": "code",
   "execution_count": 16,
   "id": "19b4fe78",
   "metadata": {},
   "outputs": [
    {
     "data": {
      "text/plain": [
       "['Remember,', 'remember,', 'the', 'fifth', 'of', 'July.']"
      ]
     },
     "execution_count": 16,
     "metadata": {},
     "output_type": "execute_result"
    }
   ],
   "source": [
    "'Remember, remember, the fifth of July.'.split()"
   ]
  },
  {
   "cell_type": "code",
   "execution_count": 17,
   "id": "1c352b99",
   "metadata": {},
   "outputs": [
    {
     "data": {
      "text/plain": [
       "'There-can-only-one.'"
      ]
     },
     "execution_count": 17,
     "metadata": {},
     "output_type": "execute_result"
    }
   ],
   "source": [
    "'-'.join('There can only one.'.split())"
   ]
  },
  {
   "cell_type": "markdown",
   "id": "225da289",
   "metadata": {},
   "source": [
    "What are the methods for right-justifying, left-justifying, and centering a string?"
   ]
  },
  {
   "cell_type": "code",
   "execution_count": 18,
   "id": "7cc3d95c",
   "metadata": {},
   "outputs": [
    {
     "data": {
      "text/plain": [
       "'madhu-----'"
      ]
     },
     "execution_count": 18,
     "metadata": {},
     "output_type": "execute_result"
    }
   ],
   "source": [
    "# left justified\n",
    "str =\"madhu\"\n",
    "str.ljust(10,\"-\")"
   ]
  },
  {
   "cell_type": "code",
   "execution_count": 19,
   "id": "4cee0319",
   "metadata": {},
   "outputs": [
    {
     "data": {
      "text/plain": [
       "'****************************************My name is'"
      ]
     },
     "execution_count": 19,
     "metadata": {},
     "output_type": "execute_result"
    }
   ],
   "source": [
    "# right justified\n",
    "str =\"My name is\"\n",
    "str.rjust(50,'*')"
   ]
  },
  {
   "cell_type": "markdown",
   "id": "3cd07b91",
   "metadata": {},
   "source": [
    "10. What is the best way to remove whitespace characters from the start or end?"
   ]
  },
  {
   "cell_type": "code",
   "execution_count": 20,
   "id": "0482055c",
   "metadata": {},
   "outputs": [
    {
     "data": {
      "text/plain": [
       "'madhu  '"
      ]
     },
     "execution_count": 20,
     "metadata": {},
     "output_type": "execute_result"
    }
   ],
   "source": [
    "str =\"  madhu  \"\n",
    "str.lstrip()"
   ]
  },
  {
   "cell_type": "code",
   "execution_count": 21,
   "id": "48fd2e54",
   "metadata": {},
   "outputs": [
    {
     "data": {
      "text/plain": [
       "'  madhu'"
      ]
     },
     "execution_count": 21,
     "metadata": {},
     "output_type": "execute_result"
    }
   ],
   "source": [
    "str =\"  madhu  \"\n",
    "str.rstrip()"
   ]
  },
  {
   "cell_type": "code",
   "execution_count": 22,
   "id": "0416b0a4",
   "metadata": {},
   "outputs": [
    {
     "data": {
      "text/plain": [
       "'madhu'"
      ]
     },
     "execution_count": 22,
     "metadata": {},
     "output_type": "execute_result"
    }
   ],
   "source": [
    "str =\"  madhu  \"\n",
    "str.strip()"
   ]
  },
  {
   "cell_type": "code",
   "execution_count": null,
   "id": "a3e18a57",
   "metadata": {},
   "outputs": [],
   "source": []
  }
 ],
 "metadata": {
  "kernelspec": {
   "display_name": "Python 3 (ipykernel)",
   "language": "python",
   "name": "python3"
  },
  "language_info": {
   "codemirror_mode": {
    "name": "ipython",
    "version": 3
   },
   "file_extension": ".py",
   "mimetype": "text/x-python",
   "name": "python",
   "nbconvert_exporter": "python",
   "pygments_lexer": "ipython3",
   "version": "3.10.8"
  }
 },
 "nbformat": 4,
 "nbformat_minor": 5
}
