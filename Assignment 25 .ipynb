{
 "cells": [
  {
   "cell_type": "markdown",
   "id": "30b0d506",
   "metadata": {},
   "source": [
    "## Python Basic Assignment - 25\n",
    "---------"
   ]
  },
  {
   "cell_type": "markdown",
   "id": "99949c2c",
   "metadata": {},
   "source": [
    "### 1. What is the difference between enclosing a list comprehension in square brackets and parentheses?\n",
    "\n",
    "Enclosing a list comprehension in square brackets returns a list.but where as enclosing a list comprehension in parentheses returns a generator object"
   ]
  },
  {
   "cell_type": "code",
   "execution_count": 2,
   "id": "d11ef66a",
   "metadata": {},
   "outputs": [
    {
     "name": "stdout",
     "output_type": "stream",
     "text": [
      "[0, 1, 2, 3, 4, 5, 6, 7, 8, 9] <class 'list'>\n"
     ]
    }
   ],
   "source": [
    "a = [i for i in range(10)]\n",
    "print(a, type(a))"
   ]
  },
  {
   "cell_type": "code",
   "execution_count": 3,
   "id": "84f15c38",
   "metadata": {},
   "outputs": [
    {
     "name": "stdout",
     "output_type": "stream",
     "text": [
      "<generator object <genexpr> at 0x000001E38CFFCBA0> <class 'generator'>\n"
     ]
    }
   ],
   "source": [
    "b = (j for j in range(10))\n",
    "print(b, type(b))"
   ]
  },
  {
   "cell_type": "markdown",
   "id": "8bea8bc8",
   "metadata": {},
   "source": [
    "### 2. What is the relationship between generators and iterators?\n",
    "\n",
    "An iterator is an object which contains a countable number of values and it is used to iterate over iterable objects like list, tuples etc<br>\n",
    "Using an iterator- iter() keyword is used to create an iterator containing an iterable object. next() keyword is used to call the next element in the iterable object.<br>\n",
    "\n",
    "Generator It is another way of creating iterators in a simple way where it uses the keyword “yield” instead of returning it in a defined function Generators are implemented using a function containing yield return statement.<br>\n",
    "Here, the yield function returns the data without affecting or exiting the function. It will return a sequence of data in an iterable format where we need to iterate over the sequence to use the data as they won’t store the entire sequence in the memory By using next() function we can iterate the output of generator function"
   ]
  },
  {
   "cell_type": "markdown",
   "id": "f0d1868e",
   "metadata": {},
   "source": [
    "### 3. What are the signs that a function is a generator function?\n",
    "\n",
    "If a function contains at least one yield statement (it may contain other yield or return statements), it becomes a generator function. Both yield and return will return some value from a function."
   ]
  },
  {
   "cell_type": "markdown",
   "id": "6a8d02f1",
   "metadata": {},
   "source": [
    "### 4. What is the purpose of a yield statement?\n",
    "A yield statement looks much like a return statement, except that instead of stopping execution of the function and returning, yield instead provides a value to the code looping over the generator and pauses execution of the generator function\n"
   ]
  },
  {
   "cell_type": "markdown",
   "id": "4b36086d",
   "metadata": {},
   "source": [
    "### 5. What is the relationship between map calls and list comprehensions? Make a comparison and contrast between the two.\n"
   ]
  },
  {
   "cell_type": "markdown",
   "id": "9b7e69bd",
   "metadata": {},
   "source": [
    "The main differences between map calls and list comprehensiosn are:\n",
    "\n",
    "1.List comprehension is more concise and easier to read as compared to map.<br>\n",
    "2.List comprehension allows filtering. In map, we have no such facility. For example, to print all odd numbers in range of 50, 3.we can write [n for n in range(50) if n%2 != 0]. There is no alternate for it in map<br>\n",
    "4.List comprehension are used when a list of results is required as final output.but map only returns a map object. it needs to be explicitly coverted to desired datatype.<br>\n",
    "5.List comprehension is faster than map when we need to evaluate expressions that are too long or complicated to express<br>\n",
    "Map is faster in case of calling an already defined function on a set of values.<br>"
   ]
  },
  {
   "cell_type": "code",
   "execution_count": null,
   "id": "06995c06",
   "metadata": {},
   "outputs": [],
   "source": []
  }
 ],
 "metadata": {
  "kernelspec": {
   "display_name": "Python 3",
   "language": "python",
   "name": "python3"
  },
  "language_info": {
   "codemirror_mode": {
    "name": "ipython",
    "version": 3
   },
   "file_extension": ".py",
   "mimetype": "text/x-python",
   "name": "python",
   "nbconvert_exporter": "python",
   "pygments_lexer": "ipython3",
   "version": "3.8.8"
  }
 },
 "nbformat": 4,
 "nbformat_minor": 5
}
